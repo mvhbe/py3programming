{
 "metadata": {
  "name": "",
  "signature": "sha256:abbcefa55c684c25b708e269c7f4388fe5d1a519deeda06dc63799e8d2bbe1ab"
 },
 "nbformat": 3,
 "nbformat_minor": 0,
 "worksheets": [
  {
   "cells": [
    {
     "cell_type": "heading",
     "level": 1,
     "metadata": {},
     "source": [
      "Listkeeper"
     ]
    },
    {
     "cell_type": "heading",
     "level": 3,
     "metadata": {},
     "source": [
      "Checking if type is list"
     ]
    },
    {
     "cell_type": "code",
     "collapsed": false,
     "input": [
      "type(list())"
     ],
     "language": "python",
     "metadata": {},
     "outputs": [
      {
       "metadata": {},
       "output_type": "pyout",
       "prompt_number": 1,
       "text": [
        "list"
       ]
      }
     ],
     "prompt_number": 1
    },
    {
     "cell_type": "code",
     "collapsed": false,
     "input": [
      "list_type = type(list())\n",
      "print(list_type)"
     ],
     "language": "python",
     "metadata": {},
     "outputs": [
      {
       "output_type": "stream",
       "stream": "stdout",
       "text": [
        "<class 'list'>\n"
       ]
      }
     ],
     "prompt_number": 3
    },
    {
     "cell_type": "code",
     "collapsed": false,
     "input": [
      "type(list()) is list"
     ],
     "language": "python",
     "metadata": {},
     "outputs": [
      {
       "metadata": {},
       "output_type": "pyout",
       "prompt_number": 4,
       "text": [
        "True"
       ]
      }
     ],
     "prompt_number": 4
    },
    {
     "cell_type": "heading",
     "level": 3,
     "metadata": {},
     "source": [
      "How to use os.listdir()"
     ]
    },
    {
     "cell_type": "code",
     "collapsed": false,
     "input": [
      "import os\n",
      "files = os.listdir(\".\")\n",
      "for file in files:\n",
      "    print(file)"
     ],
     "language": "python",
     "metadata": {},
     "outputs": [
      {
       "output_type": "stream",
       "stream": "stdout",
       "text": [
        ".DS_Store\n",
        ".ipynb_checkpoints\n",
        "Listkeeper.ipynb\n",
        "listkeeper.py\n",
        "listkeeper.pyc\n",
        "test.lst\n",
        "test_listkeeper.py\n"
       ]
      }
     ],
     "prompt_number": 11
    },
    {
     "cell_type": "code",
     "collapsed": false,
     "input": [
      "import os\n",
      "files = os.listdir(\".\")\n",
      "print(files)\n",
      "for file in files:\n",
      "    print(type(file))"
     ],
     "language": "python",
     "metadata": {},
     "outputs": [
      {
       "output_type": "stream",
       "stream": "stdout",
       "text": [
        "['.DS_Store', '.ipynb_checkpoints', 'Listkeeper.ipynb', 'listkeeper.py', 'listkeeper.pyc', 'test_listkeeper.py']\n",
        "<class 'str'>\n",
        "<class 'str'>\n",
        "<class 'str'>\n",
        "<class 'str'>\n",
        "<class 'str'>\n",
        "<class 'str'>\n"
       ]
      }
     ],
     "prompt_number": 15
    },
    {
     "cell_type": "heading",
     "level": 3,
     "metadata": {},
     "source": [
      "Only returning \"*.lst\" files"
     ]
    },
    {
     "cell_type": "code",
     "collapsed": false,
     "input": [
      "import os\n",
      "lst_files = [file for file in os.listdir(\".\") if file.endswith(\".lst\")]\n",
      "for file in lst_files:\n",
      "    print(file)"
     ],
     "language": "python",
     "metadata": {},
     "outputs": [],
     "prompt_number": 18
    },
    {
     "cell_type": "code",
     "collapsed": false,
     "input": [
      "files = [\"test1.lst\", \"test2.lst\"]\n",
      "print([file for file in files if file.endswith(\".lst\")])"
     ],
     "language": "python",
     "metadata": {},
     "outputs": [
      {
       "output_type": "stream",
       "stream": "stdout",
       "text": [
        "['test1.lst', 'test2.lst']\n"
       ]
      }
     ],
     "prompt_number": 16
    },
    {
     "cell_type": "code",
     "collapsed": false,
     "input": [
      "print([file for file in [\"test1.lst\", \"test2.lst\"] if file.endswith(\".lst\")])"
     ],
     "language": "python",
     "metadata": {},
     "outputs": [
      {
       "output_type": "stream",
       "stream": "stdout",
       "text": [
        "['test1.lst', 'test2.lst']\n"
       ]
      }
     ],
     "prompt_number": 17
    },
    {
     "cell_type": "code",
     "collapsed": false,
     "input": [
      "print([file for file in [] if file.endswith(\".lst\")])"
     ],
     "language": "python",
     "metadata": {},
     "outputs": [
      {
       "output_type": "stream",
       "stream": "stdout",
       "text": [
        "[]\n"
       ]
      }
     ],
     "prompt_number": 1
    },
    {
     "cell_type": "code",
     "collapsed": false,
     "input": [
      "['.lst' in file for file in [\"test1.lst\", \"test2.lst\"] if file.endswith(\".lst\")]"
     ],
     "language": "python",
     "metadata": {},
     "outputs": [
      {
       "metadata": {},
       "output_type": "pyout",
       "prompt_number": 4,
       "text": [
        "[True, True]"
       ]
      }
     ],
     "prompt_number": 4
    },
    {
     "cell_type": "code",
     "collapsed": false,
     "input": [
      "result = ['.lst' in file for file in [\"test1.lst\", \"test2.doc\"]]\n",
      "print(all(result))"
     ],
     "language": "python",
     "metadata": {},
     "outputs": [
      {
       "output_type": "stream",
       "stream": "stdout",
       "text": [
        "False\n"
       ]
      }
     ],
     "prompt_number": 8
    },
    {
     "cell_type": "code",
     "collapsed": false,
     "input": [
      "result = ['.lst' in file for file in [\"test1.lst\", \"test2.lst\"]]\n",
      "print(all(result))"
     ],
     "language": "python",
     "metadata": {},
     "outputs": [
      {
       "output_type": "stream",
       "stream": "stdout",
       "text": [
        "True\n"
       ]
      }
     ],
     "prompt_number": 9
    },
    {
     "cell_type": "code",
     "collapsed": false,
     "input": [],
     "language": "python",
     "metadata": {},
     "outputs": []
    }
   ],
   "metadata": {}
  }
 ]
}